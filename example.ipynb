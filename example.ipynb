{
  "nbformat": 4,
  "nbformat_minor": 0,
  "metadata": {
    "colab": {
      "provenance": [],
      "authorship_tag": "ABX9TyNE0Ba/3PzJPMCdY/oKc+yd",
      "include_colab_link": true
    },
    "kernelspec": {
      "name": "python3",
      "display_name": "Python 3"
    },
    "language_info": {
      "name": "python"
    }
  },
  "cells": [
    {
      "cell_type": "markdown",
      "metadata": {
        "id": "view-in-github",
        "colab_type": "text"
      },
      "source": [
        "<a href=\"https://colab.research.google.com/github/DominikAlb/GryLiczbowe-python/blob/master/example.ipynb\" target=\"_parent\"><img src=\"https://colab.research.google.com/assets/colab-badge.svg\" alt=\"Open In Colab\"/></a>"
      ]
    },
    {
      "cell_type": "code",
      "execution_count": 18,
      "metadata": {
        "id": "_zmyXTypNydo"
      },
      "outputs": [],
      "source": [
        "\n",
        "import calendar\n",
        "import string\n",
        "import time\n",
        "from typing import List\n",
        "from datetime import datetime, timedelta\n",
        "import statistics as stat\n",
        "import logging\n",
        "import os\n",
        "import random\n",
        "import matplotlib.pyplot as plt\n",
        "\n",
        "\n",
        "class Game:\n",
        "\n",
        "    def __init__(self, name: string, debug: bool, min_val: int, max_val: int, randomInput: bool, *args):\n",
        "        self.name: string = name\n",
        "        self.debug = debug\n",
        "        self.min_val = min_val\n",
        "        self.max_val = max_val\n",
        "        self.randomInput = randomInput\n",
        "        self.games = []\n",
        "        self.gameResults = []\n",
        "        if len(args) == 1 and isinstance(args[0], int):\n",
        "            self.n = args[0]\n",
        "        elif len(args) == 2 and isinstance(args[0], int) and isinstance(args[1], int):\n",
        "            self.n = args[0]\n",
        "            self.m = args[1]\n",
        "        elif len(args) == 4 and isinstance(args[0], int) and isinstance(args[1], int) and isinstance(args[2],\n",
        "                                                                                                     int) and isinstance(\n",
        "            args[3], int):\n",
        "            self.n = args[0]\n",
        "            self.min_val2 = args[1]\n",
        "            self.max_val2 = args[2]\n",
        "            self.m = args[3]\n",
        "\n",
        "    def monteCarlo(self, numSpins: int) -> float:\n",
        "        pass\n",
        "\n",
        "    def lasVegas(self, numSpins: int):\n",
        "        pass\n",
        "\n",
        "    def statistics(self, arr: List[float]):\n",
        "        mean = stat.mean(arr)\n",
        "        var = stat.variance(arr)\n",
        "        sd = stat.stdev(arr)\n",
        "\n",
        "        print(\"Rezultat:\\n\")\n",
        "        print(\"srednia, \" + str(mean) + \"\\n\")\n",
        "        print(\"wariancja, \" + str(var) + \"\\n\")\n",
        "        print(\"odchylenie standardowe, \" + str(sd) + \"\\n\")\n",
        "        print(\"---------------------------------------------------------------\\n\")\n",
        "\n",
        "        if self.debug:\n",
        "            logging.info(\"Wariancja: \" + str(var))\n",
        "            logging.info(\"Odchylenie standardowe: \" + str(sd))\n",
        "            logging.info(\"srednia: \" + str(mean))\n",
        "            logging.info(\"Oczekiwany rezultat dla \" + self.name + \" to: \" + str(round(100 * mean, 3)) + \" % +/- \" + str(\n",
        "                round(100 * 1.96 * sd, 3)) + \" % z 95% pewnoscia\\n\\n\")\n",
        "\n",
        "        return mean, var, sd\n",
        "\n",
        "    def draft(self, min, max):\n",
        "        #pass\n",
        "        plt.ylabel(\"prawdopodobienstwo wygranej\")\n",
        "        plt.xlabel(\"liczba zakladow: \" + self.name)\n",
        "        plt.plot(self.games[min:max], self.gameResults[min:max])\n",
        "        #if \"LasVegas\" in self.name:\n",
        "        #    self.timeToWin()\n",
        "\n",
        "    def show(self):\n",
        "        #pass\n",
        "        plt.show()\n",
        "\n",
        "    @staticmethod\n",
        "    def draw(min_val: int, max_val: int, numbers: List[int], numSpins: int) -> bool:\n",
        "        outcome = random.sample(range(min_val, max_val), numSpins)\n",
        "        # print(\"OUT: \" + str(outcome) + \" : \" + str(numSpins))\n",
        "        count: int = 0\n",
        "        for x in outcome:\n",
        "            if x in numbers:\n",
        "                count = count + 1\n",
        "        if count == numSpins:\n",
        "            return True\n",
        "        return False\n",
        "\n",
        "    def saveLocally(self, text: string, folder: string) -> bool:\n",
        "        if folder == '':\n",
        "            folder = self.name\n",
        "        try:\n",
        "            directory = os.path.join(\"D:\\\\\", \"awss3\\\\\", folder)\n",
        "            with open(directory + \"\\\\\" + self.name + \"-\" + datetime.now().strftime(\"%H-%M-%S\") + str(\n",
        "                    self.randomInput) + \".csv\",\n",
        "                      'a+', encoding='UTF8') as f:\n",
        "                f.write(text)\n",
        "                f.close()\n",
        "\n",
        "        except Exception as e:\n",
        "            print(e)\n",
        "            return False\n",
        "        return True\n",
        "\n",
        "    def loadLocally(self, folder: str) -> bool:\n",
        "        try:\n",
        "            fixdata = []\n",
        "            directory = os.path.join(\"D:\\\\\", \"awss3\\\\\", folder)\n",
        "            for root, dirs, files in os.walk(directory):\n",
        "                for file in files:\n",
        "                    gameResults: string = \"\"\n",
        "                    results = []\n",
        "                    if file.endswith(\".csv\"):\n",
        "                        f = open(os.path.join(directory + \"\\\\\" + file), 'r')\n",
        "                        gameResults = f.read().split('\\n')[0]\n",
        "                        for s in gameResults.split(' '):\n",
        "                            try:\n",
        "                                results.append(float(s))\n",
        "                            except Exception as e:\n",
        "                                continue\n",
        "\n",
        "                        self.gameResults = results\n",
        "                        self.games = range(1, len(self.gameResults) + 1)\n",
        "                        self.draft(0, len(self.gameResults))\n",
        "                        f.close()\n",
        "                    fixdata += results\n",
        "                    del gameResults\n",
        "                    del results\n",
        "            mean, var, sd = self.statistics(fixdata)\n",
        "            text: string = \"\\nsrednia: \" + str(mean) + \"\\nwariancja: \" + str(\n",
        "                var) + \"\\nodchylenie standardowe: \" + str(sd)\n",
        "            #print(text)\n",
        "            del fixdata\n",
        "        except Exception as e:\n",
        "            print(e)\n",
        "            return False\n",
        "        return True\n",
        "\n",
        "    def timeToWin(self):\n",
        "\n",
        "        drawPerWeek: int = 0\n",
        "        drawPerDay: int = 0\n",
        "        drawPerMinute: int = 0\n",
        "        endDate = None\n",
        "\n",
        "        if \"EuroRoulette\" in self.name:\n",
        "            drawPerMinute = 2\n",
        "        elif \"Lotto\" in self.name:\n",
        "            drawPerDay = 1\n",
        "            drawPerWeek = 2\n",
        "        elif \"MultiMulti\" in self.name:\n",
        "            drawPerDay = 2\n",
        "            drawPerWeek = 7\n",
        "        elif \"EuroJackpot\" in self.name:\n",
        "            drawPerDay = 1\n",
        "            drawPerWeek = 2\n",
        "        elif \"PowerBall\" in self.name:\n",
        "            drawPerDay = 1\n",
        "            drawPerWeek = 2\n",
        "\n",
        "        if drawPerMinute != 0:\n",
        "            tempValue = self.gameResults[-1] * drawPerMinute\n",
        "            endDate = timedelta(days=tempValue / 1440)\n",
        "            _time = endDate.seconds / 1440\n",
        "            return _time\n",
        "        elif drawPerDay != 0 and drawPerWeek != 0:\n",
        "            avgDrawPerDay = ((drawPerDay * drawPerWeek) / 7)\n",
        "            if self.gameResults[-1] * 7 > timedelta.max.days:\n",
        "                tempValue = self.gameResults[1] * avgDrawPerDay\n",
        "            else:\n",
        "                tempValue = self.gameResults[-1] / (drawPerDay * drawPerWeek) * avgDrawPerDay\n",
        "            return tempValue\n",
        "        return -1"
      ]
    },
    {
      "cell_type": "code",
      "source": [
        "import random\n",
        "import string\n",
        "import logging\n",
        "import statistics as stat\n",
        "import time\n",
        "\n",
        "class EuroRoulette(Game):\n",
        "    def __init__(self, name: string, debug: bool, min_val: int, max_val: int, randomInput: bool, *args):\n",
        "        super().__init__(name, debug, min_val, max_val, randomInput, *args)\n",
        "\n",
        "    def monteCarlo(self, numSpins: int) -> float:\n",
        "        wins: int = 0\n",
        "        numbers = []\n",
        "        if not self.randomInput:\n",
        "            numbers = random.sample(range(self.min_val, self.max_val), self.n)\n",
        "        for i in range(0, numSpins):\n",
        "            if self.randomInput:\n",
        "                numbers = random.sample(range(self.min_val, self.max_val), self.n)\n",
        "            if super().draw(self.min_val, self.max_val, numbers, self.n):\n",
        "                wins = wins + 1\n",
        "            self.games.append(i + 1)\n",
        "            self.gameResults.append(wins / (i + 1))\n",
        "        super().draft(len(self.gameResults)-numSpins, len(self.gameResults))\n",
        "        if self.debug:\n",
        "            logging.info(\n",
        "                \"Oczekiwany wynik wylosowania w \" + self.name + \": \" + str(numbers) + \" , to: \" + str(100 * wins / numSpins) + \"%\\n\")\n",
        "            logging.info(\n",
        "                \"liczba wygranych: \" + str(wins) + \"\\n\\n\")\n",
        "        return wins/numSpins\n",
        "\n",
        "    def lasVegas(self, numSpins: int):\n",
        "        count: int = 0\n",
        "        numbers = []\n",
        "        start_time = time.time()\n",
        "        #self.gameResults, self.games, count = self.loadTempDataIfExists()\n",
        "        self.gameResults, self.games, count = [], [], 0\n",
        "        if not self.randomInput:\n",
        "            numbers = random.sample(range(self.min_val, self.max_val), self.n)\n",
        "        for i in range(len(self.games), numSpins - len(self.games)):\n",
        "            while True:\n",
        "                if (time.time() - start_time) > 6000:\n",
        "                    self.save(str(count) + \" \" + str(\" \".join([str(g) for g in self.gameResults])), self.name, True)\n",
        "                    exit(0)\n",
        "                if self.randomInput:\n",
        "                    numbers = random.sample(range(self.min_val, self.max_val), self.n)\n",
        "                count += 1\n",
        "                if super().draw(self.min_val, self.max_val, numbers, len(numbers)):\n",
        "                    break\n",
        "            self.games.append(i + 1)\n",
        "            self.gameResults.append(count)\n",
        "        super().draft(len(self.gameResults)-numSpins, len(self.gameResults))\n",
        "        if self.debug:\n",
        "            logging.info(\n",
        "                \"Oczekiwany sredni czas wygranej w \" + self.name + \": \" + str(numbers) + \" , to: \" + str(stat.mean(self.gameResults)) + \"%\\n\")\n",
        "        #self.deleteTempFile()\n",
        "        return self.gameResults, self.timeToWin()"
      ],
      "metadata": {
        "id": "n0p2BgDRx_xJ"
      },
      "execution_count": 8,
      "outputs": []
    },
    {
      "cell_type": "code",
      "source": [
        "import string\n",
        "\n",
        "class Lotto(EuroRoulette):\n",
        "    def __init__(self, name: string, debug: bool, min_val: int, max_val: int, randomInput: bool, *args):\n",
        "        super().__init__(name, debug, min_val, max_val, randomInput, *args)\n",
        "\n",
        "    def monteCarlo(self, numSpins: int) -> float:\n",
        "        return super().monteCarlo(numSpins)\n",
        "\n",
        "    def lasVegas(self, numSpins: int):\n",
        "        return super().lasVegas(numSpins)"
      ],
      "metadata": {
        "id": "KmOgnfZMyUuz"
      },
      "execution_count": 9,
      "outputs": []
    },
    {
      "cell_type": "code",
      "source": [
        "import random\n",
        "import string\n",
        "import logging\n",
        "import statistics as stat\n",
        "import time\n",
        "\n",
        "class MultiMulti(Game):\n",
        "    def __init__(self, name: string, debug: bool, min_val: int, max_val: int, *args):\n",
        "        super().__init__(name, debug, min_val, max_val, *args)\n",
        "\n",
        "    def monteCarlo(self, numSpins: int) -> float:\n",
        "        wins: int = 0\n",
        "        numbers = []\n",
        "        if not self.randomInput:\n",
        "            numbers = random.sample(range(self.min_val, self.max_val), self.n)\n",
        "        for i in range(0, numSpins):\n",
        "            if self.randomInput:\n",
        "                numbers = random.sample(range(self.min_val, self.max_val), self.n)\n",
        "            if super().draw(self.min_val, self.max_val, numbers, self.m):\n",
        "                wins = wins + 1\n",
        "            self.games.append(i + 1)\n",
        "            self.gameResults.append(wins / (i + 1))\n",
        "        super().draft(len(self.gameResults)-numSpins, len(self.gameResults))\n",
        "        if self.debug:\n",
        "            logging.info(\n",
        "                \"Oczekiwany wynik wylosowania w \" + self.name + \": \" + str(numbers) + \" , to: \" + str(100 * wins / numSpins) + \"%\\n\")\n",
        "            logging.info(\n",
        "                \"liczba wygranych: \" + str(wins) + \"\\n\\n\")\n",
        "        return wins / numSpins\n",
        "\n",
        "    def lasVegas(self, numSpins: int):\n",
        "        count: int = 0\n",
        "        numbers = []\n",
        "        start_time = time.time()\n",
        "        self.gameResults, self.games, count = self.loadTempDataIfExists()\n",
        "        if not self.randomInput:\n",
        "            numbers = random.sample(range(self.min_val, self.max_val), self.n)\n",
        "        for i in range(0, numSpins - len(self.games)):\n",
        "            while True:\n",
        "                if (time.time() - start_time) > 6000:\n",
        "                    self.save(str(i) + \" \" + str(\" \".join([str(g) for g in self.gameResults])), self.name, True)\n",
        "                    exit(0)\n",
        "                if self.randomInput:\n",
        "                    numbers = random.sample(range(self.min_val, self.max_val), self.n)\n",
        "                count += 1\n",
        "                if super().draw(self.min_val, self.max_val, numbers, self.m):\n",
        "                    break\n",
        "            self.games.append(i + 1)\n",
        "            self.gameResults.append(count)\n",
        "        super().draft(len(self.gameResults)-numSpins, len(self.gameResults))\n",
        "        if self.debug:\n",
        "            logging.info(\n",
        "                \"Oczekiwany sredni czas wygranej w \" + self.name + \": \" + str(numbers) + \" , to: \" + str(\n",
        "                    stat.mean(self.gameResults)) + \"%\\n\")\n",
        "\n",
        "        self.deleteTempFile()\n",
        "        return self.gameResults"
      ],
      "metadata": {
        "id": "loXqYN6TyWY6"
      },
      "execution_count": 10,
      "outputs": []
    },
    {
      "cell_type": "code",
      "source": [
        "import random\n",
        "import string\n",
        "import logging\n",
        "import statistics as stat\n",
        "import time\n",
        "\n",
        "class EuroJackpot(Game):\n",
        "    def __init__(self, name: string, debug: bool, min_val: int, max_val: int, randomInput: bool, *args):\n",
        "        super().__init__(name, debug, min_val, max_val, randomInput, *args)\n",
        "\n",
        "    def monteCarlo(self, numSpins: int) -> float:\n",
        "        wins: int = 0\n",
        "        numbers1 = []\n",
        "        numbers2 = []\n",
        "        if not self.randomInput:\n",
        "            numbers1 = random.sample(range(self.min_val, self.max_val), self.n)\n",
        "            numbers2 = random.sample(range(self.min_val2, self.max_val2), self.m)\n",
        "        for i in range(0, numSpins):\n",
        "            if self.randomInput:\n",
        "                numbers1 = random.sample(range(self.min_val, self.max_val), self.n)\n",
        "                numbers2 = random.sample(range(self.min_val2, self.max_val2), self.m)\n",
        "            if super().draw(self.min_val, self.max_val, numbers1, len(numbers1)) and \\\n",
        "               super().draw(self.min_val2, self.max_val2, numbers2, len(numbers2)):\n",
        "                wins = wins + 1\n",
        "            self.games.append(i + 1)\n",
        "            self.gameResults.append(wins / (i + 1))\n",
        "        super().draft(len(self.gameResults)-numSpins, len(self.gameResults))\n",
        "        if self.debug:\n",
        "            logging.info(\n",
        "                \"Oczekiwany wynik wylosowania w \" + self.name + \": \" + str(numbers1) + \" - \" + str(numbers2) + \" , to: \" + str(\n",
        "                    100 * wins / numSpins) + \"%\\n\")\n",
        "            logging.info(\n",
        "                \"liczba wygranych: \" + str(wins) + \"\\n\\n\")\n",
        "\n",
        "        return wins/numSpins\n",
        "\n",
        "    def lasVegas(self, numSpins: int) -> []:\n",
        "        count: int = 0\n",
        "        numbers1 = []\n",
        "        numbers2 = []\n",
        "        start_time = time.time()\n",
        "        self.gameResults, self.games, count = self.loadTempDataIfExists()\n",
        "        if not self.randomInput:\n",
        "            numbers1 = random.sample(range(self.min_val, self.max_val), self.n)\n",
        "            numbers2 = random.sample(range(self.min_val2, self.max_val2), self.m)\n",
        "        for i in range(0, numSpins - len(self.games)):\n",
        "            while True:\n",
        "                if (time.time() - start_time) > 6000:\n",
        "                    s = \"\"\n",
        "                    if len(self.gameResults) == 0:\n",
        "                        s = \"0\"\n",
        "                    else:\n",
        "                        s = str(\" \".join([str(g) for g in self.gameResults]))\n",
        "                    self.save(str(count) + \" \" + s, self.name, True)\n",
        "                    exit(0)\n",
        "                if self.randomInput:\n",
        "                    numbers1 = random.sample(range(self.min_val, self.max_val), self.n)\n",
        "                    numbers2 = random.sample(range(self.min_val2, self.max_val2), self.m)\n",
        "                count += 1\n",
        "                if super().draw(self.min_val, self.max_val, numbers1, len(numbers1)) and \\\n",
        "                        super().draw(self.min_val2, self.max_val2, numbers2, len(numbers2)):\n",
        "                    print(\"BREAK!\")\n",
        "                    break\n",
        "            self.games.append(i)\n",
        "            self.gameResults.append(count + 1)\n",
        "        super().draft(len(self.gameResults)-numSpins, len(self.gameResults))\n",
        "        if self.debug:\n",
        "            logging.info(\n",
        "                \"Oczekiwany sredni czas wygranej w \" + self.name + \": \" + str(numbers1) + \", \" + str(numbers2) +\n",
        "                \" , to: \" + str(stat.mean(self.gameResults)) + \"%\\n\")\n",
        "\n",
        "        self.deleteTempFile()\n",
        "        return self.gameResults"
      ],
      "metadata": {
        "id": "Es1bqnc8yg7e"
      },
      "execution_count": 11,
      "outputs": []
    },
    {
      "cell_type": "code",
      "source": [
        "import string\n",
        "\n",
        "class PowerBall(EuroJackpot):\n",
        "    def __init__(self, name: string, debug: bool, min_val: int, max_val: int, randomInput: bool, *args):\n",
        "        super().__init__(name, debug, min_val, max_val, randomInput, *args)\n",
        "\n",
        "    def monteCarlo(self, numSpins: int) -> float:\n",
        "        return super().monteCarlo(numSpins)\n",
        "\n",
        "    def lasVegas(self, numSpins: int):\n",
        "        return super().lasVegas(numSpins)"
      ],
      "metadata": {
        "id": "j-NPkqbDyohp"
      },
      "execution_count": 12,
      "outputs": []
    },
    {
      "cell_type": "code",
      "source": [
        "# This is a sample Python script.\n",
        "\n",
        "# Press Shift+F10 to execute it or replace it with your code.\n",
        "# Press Double Shift to search everywhere for classes, files, tool windows, actions, and settings.\n",
        "\n",
        "# Press the green button in the gutter to run the script.\n",
        "from datetime import datetime\n",
        "import logging\n",
        "import time\n",
        "import string\n",
        "import statistics as stat\n",
        "\n",
        "\n",
        "def play(length: int, numberOfGames: int, game: Game, gameName: string):\n",
        "    arr = []\n",
        "    print(game.name)\n",
        "    if gameName == \"MonteCarlo\":\n",
        "        print(\"Monte Carlo\")\n",
        "        start_time = time.time()\n",
        "        arr = [game.monteCarlo(numberOfGames) for _ in range(0, length)]\n",
        "        print(\"--- %s minutes ---\" % ((time.time() - start_time) / 60))\n",
        "        game.show()\n",
        "        mean, var, sd = game.statistics(arr)\n",
        "    elif gameName == \"LasVegas\":\n",
        "        print(\"Las Vegas\")\n",
        "        start_time = time.time()\n",
        "        _tuple = [game.lasVegas(numberOfGames) for _ in range(0, length)]\n",
        "        unzip = list(zip(*_tuple))\n",
        "        arr, timeToWin = unzip[0], unzip[1]\n",
        "        print(\"--- %s minutes ---\" % ((time.time() - start_time)/60))\n",
        "        game.show()\n",
        "        temp = []\n",
        "        for i in arr:\n",
        "            temp += i\n",
        "\n",
        "        mean, var, sd = game.statistics(temp)"
      ],
      "metadata": {
        "id": "GWZRb2rfhQbu"
      },
      "execution_count": null,
      "outputs": []
    },
    {
      "cell_type": "code",
      "source": [
        "length = 1000\n",
        "numberOfGames = 1000\n",
        "\n",
        "game: Game = EuroRoulette(\"EuroRoulette-MonteCarlo\", True, 0, 37, True,  1)\n",
        "play(length, numberOfGames, game, \"MonteCarlo\")\n",
        "game.show()"
      ],
      "metadata": {
        "colab": {
          "base_uri": "https://localhost:8080/",
          "height": 594
        },
        "id": "8qsPULbOzaYQ",
        "outputId": "7ab452d8-617e-4f9b-af63-593dd7e0c7af"
      },
      "execution_count": 21,
      "outputs": [
        {
          "output_type": "stream",
          "name": "stdout",
          "text": [
            "EuroRoulette-MonteCarlo\n",
            "Monte Carlo\n",
            "--- 0.13936694860458373 minutes ---\n"
          ]
        },
        {
          "output_type": "display_data",
          "data": {
            "text/plain": [
              "<Figure size 432x288 with 1 Axes>"
            ],
            "image/png": "[encoded data removed]"
          },
          "metadata": {
            "needs_background": "light"
          }
        },
        {
          "output_type": "stream",
          "name": "stdout",
          "text": [
            "Rezultat:\n",
            "\n",
            "srednia, 0.026948\n",
            "\n",
            "wariancja, 2.62034994994995e-05\n",
            "\n",
            "odchylenie standardowe, 0.005118935387314388\n",
            "\n",
            "---------------------------------------------------------------\n",
            "\n",
            "[0.03, 0.028, 0.025, 0.036, 0.019, 0.031, 0.023, 0.033, 0.028, 0.022, 0.033, 0.022, 0.029, 0.029, 0.035, 0.029, 0.022, 0.028, 0.025, 0.028, 0.022, 0.02, 0.027, 0.029, 0.035, 0.026, 0.029, 0.03, 0.025, 0.026, 0.031, 0.036, 0.024, 0.035, 0.03, 0.023, 0.025, 0.019, 0.026, 0.035, 0.027, 0.028, 0.027, 0.026, 0.03, 0.022, 0.032, 0.028, 0.027, 0.027, 0.024, 0.022, 0.033, 0.017, 0.027, 0.024, 0.018, 0.027, 0.028, 0.027, 0.035, 0.033, 0.016, 0.031, 0.012, 0.032, 0.03, 0.025, 0.025, 0.027, 0.02, 0.028, 0.022, 0.031, 0.025, 0.025, 0.025, 0.02, 0.026, 0.026, 0.026, 0.036, 0.021, 0.027, 0.032, 0.023, 0.035, 0.019, 0.028, 0.026, 0.027, 0.027, 0.027, 0.024, 0.026, 0.02, 0.026, 0.028, 0.023, 0.028, 0.028, 0.03, 0.031, 0.026, 0.021, 0.024, 0.019, 0.029, 0.019, 0.026, 0.034, 0.02, 0.032, 0.026, 0.028, 0.029, 0.028, 0.019, 0.028, 0.038, 0.028, 0.043, 0.029, 0.028, 0.025, 0.023, 0.024, 0.027, 0.026, 0.022, 0.026, 0.025, 0.042, 0.03, 0.03, 0.02, 0.027, 0.025, 0.019, 0.026, 0.032, 0.025, 0.04, 0.017, 0.026, 0.019, 0.037, 0.034, 0.024, 0.026, 0.031, 0.027, 0.024, 0.019, 0.028, 0.024, 0.025, 0.03, 0.028, 0.026, 0.027, 0.027, 0.028, 0.023, 0.027, 0.023, 0.023, 0.031, 0.025, 0.028, 0.031, 0.025, 0.029, 0.032, 0.031, 0.027, 0.034, 0.03, 0.028, 0.03, 0.034, 0.022, 0.019, 0.026, 0.033, 0.024, 0.034, 0.026, 0.02, 0.026, 0.03, 0.031, 0.018, 0.031, 0.032, 0.036, 0.028, 0.029, 0.028, 0.029, 0.022, 0.032, 0.027, 0.028, 0.026, 0.027, 0.032, 0.03, 0.02, 0.017, 0.025, 0.03, 0.019, 0.026, 0.03, 0.035, 0.019, 0.028, 0.022, 0.024, 0.026, 0.029, 0.029, 0.028, 0.031, 0.019, 0.026, 0.022, 0.032, 0.03, 0.031, 0.027, 0.023, 0.024, 0.032, 0.029, 0.02, 0.022, 0.028, 0.029, 0.025, 0.036, 0.029, 0.033, 0.028, 0.021, 0.024, 0.033, 0.024, 0.02, 0.03, 0.022, 0.03, 0.03, 0.027, 0.024, 0.031, 0.031, 0.031, 0.024, 0.021, 0.026, 0.035, 0.033, 0.029, 0.018, 0.033, 0.024, 0.032, 0.027, 0.028, 0.025, 0.027, 0.028, 0.013, 0.028, 0.027, 0.03, 0.024, 0.026, 0.029, 0.02, 0.039, 0.023, 0.024, 0.032, 0.032, 0.02, 0.025, 0.029, 0.028, 0.033, 0.027, 0.029, 0.028, 0.025, 0.032, 0.027, 0.024, 0.026, 0.023, 0.028, 0.023, 0.024, 0.023, 0.035, 0.033, 0.022, 0.023, 0.023, 0.031, 0.031, 0.033, 0.027, 0.026, 0.019, 0.025, 0.025, 0.031, 0.039, 0.027, 0.027, 0.028, 0.035, 0.03, 0.019, 0.039, 0.029, 0.024, 0.032, 0.022, 0.027, 0.026, 0.035, 0.025, 0.029, 0.029, 0.02, 0.025, 0.028, 0.018, 0.038, 0.028, 0.029, 0.024, 0.019, 0.033, 0.036, 0.018, 0.023, 0.029, 0.03, 0.032, 0.028, 0.036, 0.031, 0.037, 0.026, 0.032, 0.035, 0.039, 0.021, 0.03, 0.03, 0.03, 0.029, 0.025, 0.025, 0.027, 0.016, 0.026, 0.032, 0.019, 0.029, 0.027, 0.03, 0.029, 0.03, 0.023, 0.026, 0.02, 0.028, 0.031, 0.02, 0.02, 0.021, 0.026, 0.02, 0.025, 0.028, 0.024, 0.028, 0.033, 0.026, 0.028, 0.036, 0.029, 0.023, 0.019, 0.028, 0.024, 0.03, 0.039, 0.029, 0.03, 0.02, 0.023, 0.021, 0.025, 0.027, 0.029, 0.023, 0.02, 0.021, 0.019, 0.024, 0.031, 0.023, 0.021, 0.023, 0.033, 0.021, 0.025, 0.025, 0.026, 0.017, 0.018, 0.032, 0.034, 0.024, 0.024, 0.024, 0.026, 0.033, 0.027, 0.025, 0.02, 0.029, 0.022, 0.026, 0.043, 0.025, 0.026, 0.037, 0.017, 0.026, 0.04, 0.02, 0.031, 0.03, 0.025, 0.024, 0.021, 0.028, 0.029, 0.031, 0.024, 0.031, 0.019, 0.024, 0.029, 0.024, 0.031, 0.03, 0.026, 0.021, 0.016, 0.026, 0.032, 0.014, 0.022, 0.026, 0.029, 0.016, 0.034, 0.022, 0.021, 0.03, 0.028, 0.026, 0.022, 0.023, 0.025, 0.017, 0.019, 0.029, 0.017, 0.033, 0.028, 0.034, 0.024, 0.029, 0.023, 0.027, 0.025, 0.028, 0.029, 0.031, 0.035, 0.038, 0.022, 0.032, 0.037, 0.023, 0.028, 0.027, 0.033, 0.027, 0.028, 0.028, 0.014, 0.025, 0.019, 0.034, 0.031, 0.027, 0.028, 0.031, 0.024, 0.026, 0.026, 0.031, 0.031, 0.026, 0.03, 0.016, 0.034, 0.024, 0.022, 0.027, 0.037, 0.029, 0.03, 0.026, 0.019, 0.026, 0.019, 0.032, 0.042, 0.034, 0.031, 0.029, 0.016, 0.043, 0.033, 0.029, 0.021, 0.029, 0.027, 0.029, 0.024, 0.026, 0.036, 0.031, 0.026, 0.026, 0.019, 0.021, 0.026, 0.023, 0.037, 0.026, 0.03, 0.031, 0.022, 0.027, 0.028, 0.03, 0.021, 0.028, 0.023, 0.021, 0.026, 0.022, 0.028, 0.027, 0.031, 0.037, 0.021, 0.027, 0.029, 0.025, 0.03, 0.024, 0.027, 0.032, 0.026, 0.033, 0.024, 0.026, 0.031, 0.037, 0.032, 0.025, 0.025, 0.029, 0.019, 0.027, 0.024, 0.029, 0.029, 0.031, 0.02, 0.027, 0.036, 0.033, 0.018, 0.022, 0.03, 0.024, 0.02, 0.022, 0.028, 0.031, 0.036, 0.026, 0.028, 0.025, 0.023, 0.017, 0.03, 0.028, 0.024, 0.019, 0.028, 0.035, 0.037, 0.034, 0.028, 0.04, 0.028, 0.031, 0.019, 0.025, 0.025, 0.025, 0.026, 0.032, 0.025, 0.033, 0.026, 0.03, 0.024, 0.018, 0.019, 0.03, 0.033, 0.027, 0.027, 0.029, 0.023, 0.027, 0.029, 0.028, 0.023, 0.03, 0.026, 0.031, 0.025, 0.029, 0.034, 0.031, 0.02, 0.026, 0.022, 0.021, 0.021, 0.026, 0.03, 0.037, 0.026, 0.019, 0.029, 0.026, 0.032, 0.032, 0.029, 0.032, 0.028, 0.034, 0.035, 0.023, 0.024, 0.024, 0.027, 0.028, 0.025, 0.025, 0.031, 0.03, 0.026, 0.031, 0.019, 0.028, 0.03, 0.03, 0.027, 0.027, 0.027, 0.022, 0.024, 0.022, 0.028, 0.028, 0.02, 0.028, 0.019, 0.02, 0.035, 0.019, 0.032, 0.026, 0.017, 0.029, 0.03, 0.042, 0.031, 0.023, 0.035, 0.037, 0.028, 0.03, 0.024, 0.028, 0.018, 0.025, 0.028, 0.028, 0.034, 0.027, 0.03, 0.03, 0.028, 0.03, 0.024, 0.025, 0.015, 0.016, 0.02, 0.023, 0.027, 0.032, 0.018, 0.021, 0.026, 0.022, 0.031, 0.025, 0.028, 0.033, 0.034, 0.031, 0.022, 0.036, 0.034, 0.016, 0.027, 0.029, 0.036, 0.026, 0.031, 0.025, 0.031, 0.038, 0.026, 0.038, 0.027, 0.036, 0.023, 0.03, 0.032, 0.016, 0.026, 0.037, 0.025, 0.023, 0.032, 0.029, 0.029, 0.025, 0.03, 0.038, 0.029, 0.03, 0.011, 0.021, 0.026, 0.024, 0.029, 0.028, 0.03, 0.02, 0.029, 0.022, 0.031, 0.022, 0.024, 0.026, 0.035, 0.033, 0.024, 0.023, 0.025, 0.028, 0.02, 0.023, 0.019, 0.026, 0.025, 0.03, 0.032, 0.032, 0.029, 0.025, 0.031, 0.028, 0.029, 0.031, 0.025, 0.041, 0.031, 0.019, 0.016, 0.018, 0.026, 0.024, 0.025, 0.033, 0.037, 0.024, 0.027, 0.027, 0.023, 0.031, 0.02, 0.02, 0.037, 0.024, 0.018, 0.035, 0.02, 0.032, 0.035, 0.026, 0.024, 0.025, 0.027, 0.027, 0.021, 0.03, 0.021, 0.019, 0.033, 0.023, 0.015, 0.02, 0.027, 0.03, 0.027, 0.027, 0.028, 0.03, 0.028, 0.026, 0.026, 0.027, 0.039, 0.033, 0.029, 0.03, 0.023, 0.024, 0.031, 0.028, 0.032, 0.029, 0.031, 0.02, 0.024, 0.023, 0.028, 0.026, 0.026, 0.029, 0.028, 0.029, 0.027, 0.042, 0.027, 0.029, 0.03, 0.025, 0.023, 0.027, 0.026, 0.023, 0.028, 0.027, 0.034, 0.029, 0.029, 0.026, 0.02, 0.032, 0.033, 0.033, 0.031, 0.023, 0.02, 0.028, 0.033, 0.031, 0.027, 0.035, 0.025, 0.019, 0.019, 0.023, 0.023, 0.019, 0.031, 0.027, 0.021, 0.022, 0.033, 0.027, 0.022, 0.036, 0.026, 0.034, 0.028, 0.032, 0.028, 0.023, 0.022, 0.021, 0.02, 0.024, 0.025, 0.025, 0.032, 0.026, 0.028, 0.033, 0.025, 0.027, 0.023, 0.022, 0.032, 0.021, 0.027, 0.024, 0.02, 0.023, 0.027, 0.024, 0.034, 0.025, 0.026, 0.031, 0.02, 0.032, 0.022, 0.028, 0.02, 0.026, 0.018, 0.022, 0.025, 0.032, 0.031, 0.02, 0.022, 0.014, 0.031, 0.025, 0.03, 0.026, 0.025, 0.028, 0.033, 0.02, 0.018, 0.024, 0.029, 0.024, 0.021, 0.029, 0.031, 0.025, 0.028, 0.029, 0.029, 0.023, 0.023, 0.024, 0.029, 0.029, 0.027, 0.031]\n",
            "srednia: 0.026948\n",
            "wariancja: 2.62034994994995e-05\n",
            "odchylenie standardowe: 0.005118935387314388\n"
          ]
        }
      ]
    },
    {
      "cell_type": "code",
      "source": [
        "length = 10\n",
        "numberOfGames = 10\n",
        "\n",
        "game: Game = EuroRoulette(\"EuroRoulette-LasVegas\", True, 0, 36, True, 1)\n",
        "play(length, numberOfGames, game, \"LasVegas\")\n",
        "game.show()"
      ],
      "metadata": {
        "colab": {
          "base_uri": "https://localhost:8080/",
          "height": 576
        },
        "id": "M1k3nRFbzuAt",
        "outputId": "edace769-5c58-4651-9aaf-4d59a6e91ade"
      },
      "execution_count": 22,
      "outputs": [
        {
          "output_type": "stream",
          "name": "stdout",
          "text": [
            "EuroRoulette-LasVegas\n",
            "Las Vegas\n",
            "--- 0.0013674537340799967 minutes ---\n"
          ]
        },
        {
          "output_type": "display_data",
          "data": {
            "text/plain": [
              "<Figure size 432x288 with 1 Axes>"
            ],
            "image/png": "[encoded data removed]"
          },
          "metadata": {
            "needs_background": "light"
          }
        },
        {
          "output_type": "stream",
          "name": "stdout",
          "text": [
            "Rezultat:\n",
            "\n",
            "srednia, 194.86\n",
            "\n",
            "wariancja, 26065.53575757576\n",
            "\n",
            "odchylenie standardowe, 161.4482448265566\n",
            "\n",
            "---------------------------------------------------------------\n",
            "\n",
            "sredni czas oczekiwania:  31.65833333333333  dni.\n",
            "srednia: 194.86\n",
            "wariancja: 26065.53575757576\n",
            "odchylenie standardowe: 161.4482448265566\n"
          ]
        }
      ]
    },
    {
      "cell_type": "code",
      "source": [
        "length = 1000\n",
        "numberOfGames = 1000\n",
        "\n",
        "game = Lotto(\"Lotto-MonteCarlo\", True, 1, 49, False, 6)\n",
        "play(length, numberOfGames, game, \"MonteCarlo\")\n",
        "game.show()"
      ],
      "metadata": {
        "colab": {
          "base_uri": "https://localhost:8080/",
          "height": 594
        },
        "id": "ZJa2w48KzvI_",
        "outputId": "9fbe39a6-db24-4368-96f5-6c5ca9d8b465"
      },
      "execution_count": 23,
      "outputs": [
        {
          "output_type": "stream",
          "name": "stdout",
          "text": [
            "Lotto-MonteCarlo\n",
            "Monte Carlo\n",
            "--- 0.15931996901830037 minutes ---\n"
          ]
        },
        {
          "output_type": "display_data",
          "data": {
            "text/plain": [
              "<Figure size 432x288 with 1 Axes>"
            ],
            "image/png": "[encoded data removed]"
          },
          "metadata": {
            "needs_background": "light"
          }
        },
        {
          "output_type": "stream",
          "name": "stdout",
          "text": [
            "Rezultat:\n",
            "\n",
            "srednia, 0.0\n",
            "\n",
            "wariancja, 0.0\n",
            "\n",
            "odchylenie standardowe, 0.0\n",
            "\n",
            "---------------------------------------------------------------\n",
            "\n",
            "[0.0, 0.0, 0.0, 0.0, 0.0, 0.0, 0.0, 0.0, 0.0, 0.0, 0.0, 0.0, 0.0, 0.0, 0.0, 0.0, 0.0, 0.0, 0.0, 0.0, 0.0, 0.0, 0.0, 0.0, 0.0, 0.0, 0.0, 0.0, 0.0, 0.0, 0.0, 0.0, 0.0, 0.0, 0.0, 0.0, 0.0, 0.0, 0.0, 0.0, 0.0, 0.0, 0.0, 0.0, 0.0, 0.0, 0.0, 0.0, 0.0, 0.0, 0.0, 0.0, 0.0, 0.0, 0.0, 0.0, 0.0, 0.0, 0.0, 0.0, 0.0, 0.0, 0.0, 0.0, 0.0, 0.0, 0.0, 0.0, 0.0, 0.0, 0.0, 0.0, 0.0, 0.0, 0.0, 0.0, 0.0, 0.0, 0.0, 0.0, 0.0, 0.0, 0.0, 0.0, 0.0, 0.0, 0.0, 0.0, 0.0, 0.0, 0.0, 0.0, 0.0, 0.0, 0.0, 0.0, 0.0, 0.0, 0.0, 0.0, 0.0, 0.0, 0.0, 0.0, 0.0, 0.0, 0.0, 0.0, 0.0, 0.0, 0.0, 0.0, 0.0, 0.0, 0.0, 0.0, 0.0, 0.0, 0.0, 0.0, 0.0, 0.0, 0.0, 0.0, 0.0, 0.0, 0.0, 0.0, 0.0, 0.0, 0.0, 0.0, 0.0, 0.0, 0.0, 0.0, 0.0, 0.0, 0.0, 0.0, 0.0, 0.0, 0.0, 0.0, 0.0, 0.0, 0.0, 0.0, 0.0, 0.0, 0.0, 0.0, 0.0, 0.0, 0.0, 0.0, 0.0, 0.0, 0.0, 0.0, 0.0, 0.0, 0.0, 0.0, 0.0, 0.0, 0.0, 0.0, 0.0, 0.0, 0.0, 0.0, 0.0, 0.0, 0.0, 0.0, 0.0, 0.0, 0.0, 0.0, 0.0, 0.0, 0.0, 0.0, 0.0, 0.0, 0.0, 0.0, 0.0, 0.0, 0.0, 0.0, 0.0, 0.0, 0.0, 0.0, 0.0, 0.0, 0.0, 0.0, 0.0, 0.0, 0.0, 0.0, 0.0, 0.0, 0.0, 0.0, 0.0, 0.0, 0.0, 0.0, 0.0, 0.0, 0.0, 0.0, 0.0, 0.0, 0.0, 0.0, 0.0, 0.0, 0.0, 0.0, 0.0, 0.0, 0.0, 0.0, 0.0, 0.0, 0.0, 0.0, 0.0, 0.0, 0.0, 0.0, 0.0, 0.0, 0.0, 0.0, 0.0, 0.0, 0.0, 0.0, 0.0, 0.0, 0.0, 0.0, 0.0, 0.0, 0.0, 0.0, 0.0, 0.0, 0.0, 0.0, 0.0, 0.0, 0.0, 0.0, 0.0, 0.0, 0.0, 0.0, 0.0, 0.0, 0.0, 0.0, 0.0, 0.0, 0.0, 0.0, 0.0, 0.0, 0.0, 0.0, 0.0, 0.0, 0.0, 0.0, 0.0, 0.0, 0.0, 0.0, 0.0, 0.0, 0.0, 0.0, 0.0, 0.0, 0.0, 0.0, 0.0, 0.0, 0.0, 0.0, 0.0, 0.0, 0.0, 0.0, 0.0, 0.0, 0.0, 0.0, 0.0, 0.0, 0.0, 0.0, 0.0, 0.0, 0.0, 0.0, 0.0, 0.0, 0.0, 0.0, 0.0, 0.0, 0.0, 0.0, 0.0, 0.0, 0.0, 0.0, 0.0, 0.0, 0.0, 0.0, 0.0, 0.0, 0.0, 0.0, 0.0, 0.0, 0.0, 0.0, 0.0, 0.0, 0.0, 0.0, 0.0, 0.0, 0.0, 0.0, 0.0, 0.0, 0.0, 0.0, 0.0, 0.0, 0.0, 0.0, 0.0, 0.0, 0.0, 0.0, 0.0, 0.0, 0.0, 0.0, 0.0, 0.0, 0.0, 0.0, 0.0, 0.0, 0.0, 0.0, 0.0, 0.0, 0.0, 0.0, 0.0, 0.0, 0.0, 0.0, 0.0, 0.0, 0.0, 0.0, 0.0, 0.0, 0.0, 0.0, 0.0, 0.0, 0.0, 0.0, 0.0, 0.0, 0.0, 0.0, 0.0, 0.0, 0.0, 0.0, 0.0, 0.0, 0.0, 0.0, 0.0, 0.0, 0.0, 0.0, 0.0, 0.0, 0.0, 0.0, 0.0, 0.0, 0.0, 0.0, 0.0, 0.0, 0.0, 0.0, 0.0, 0.0, 0.0, 0.0, 0.0, 0.0, 0.0, 0.0, 0.0, 0.0, 0.0, 0.0, 0.0, 0.0, 0.0, 0.0, 0.0, 0.0, 0.0, 0.0, 0.0, 0.0, 0.0, 0.0, 0.0, 0.0, 0.0, 0.0, 0.0, 0.0, 0.0, 0.0, 0.0, 0.0, 0.0, 0.0, 0.0, 0.0, 0.0, 0.0, 0.0, 0.0, 0.0, 0.0, 0.0, 0.0, 0.0, 0.0, 0.0, 0.0, 0.0, 0.0, 0.0, 0.0, 0.0, 0.0, 0.0, 0.0, 0.0, 0.0, 0.0, 0.0, 0.0, 0.0, 0.0, 0.0, 0.0, 0.0, 0.0, 0.0, 0.0, 0.0, 0.0, 0.0, 0.0, 0.0, 0.0, 0.0, 0.0, 0.0, 0.0, 0.0, 0.0, 0.0, 0.0, 0.0, 0.0, 0.0, 0.0, 0.0, 0.0, 0.0, 0.0, 0.0, 0.0, 0.0, 0.0, 0.0, 0.0, 0.0, 0.0, 0.0, 0.0, 0.0, 0.0, 0.0, 0.0, 0.0, 0.0, 0.0, 0.0, 0.0, 0.0, 0.0, 0.0, 0.0, 0.0, 0.0, 0.0, 0.0, 0.0, 0.0, 0.0, 0.0, 0.0, 0.0, 0.0, 0.0, 0.0, 0.0, 0.0, 0.0, 0.0, 0.0, 0.0, 0.0, 0.0, 0.0, 0.0, 0.0, 0.0, 0.0, 0.0, 0.0, 0.0, 0.0, 0.0, 0.0, 0.0, 0.0, 0.0, 0.0, 0.0, 0.0, 0.0, 0.0, 0.0, 0.0, 0.0, 0.0, 0.0, 0.0, 0.0, 0.0, 0.0, 0.0, 0.0, 0.0, 0.0, 0.0, 0.0, 0.0, 0.0, 0.0, 0.0, 0.0, 0.0, 0.0, 0.0, 0.0, 0.0, 0.0, 0.0, 0.0, 0.0, 0.0, 0.0, 0.0, 0.0, 0.0, 0.0, 0.0, 0.0, 0.0, 0.0, 0.0, 0.0, 0.0, 0.0, 0.0, 0.0, 0.0, 0.0, 0.0, 0.0, 0.0, 0.0, 0.0, 0.0, 0.0, 0.0, 0.0, 0.0, 0.0, 0.0, 0.0, 0.0, 0.0, 0.0, 0.0, 0.0, 0.0, 0.0, 0.0, 0.0, 0.0, 0.0, 0.0, 0.0, 0.0, 0.0, 0.0, 0.0, 0.0, 0.0, 0.0, 0.0, 0.0, 0.0, 0.0, 0.0, 0.0, 0.0, 0.0, 0.0, 0.0, 0.0, 0.0, 0.0, 0.0, 0.0, 0.0, 0.0, 0.0, 0.0, 0.0, 0.0, 0.0, 0.0, 0.0, 0.0, 0.0, 0.0, 0.0, 0.0, 0.0, 0.0, 0.0, 0.0, 0.0, 0.0, 0.0, 0.0, 0.0, 0.0, 0.0, 0.0, 0.0, 0.0, 0.0, 0.0, 0.0, 0.0, 0.0, 0.0, 0.0, 0.0, 0.0, 0.0, 0.0, 0.0, 0.0, 0.0, 0.0, 0.0, 0.0, 0.0, 0.0, 0.0, 0.0, 0.0, 0.0, 0.0, 0.0, 0.0, 0.0, 0.0, 0.0, 0.0, 0.0, 0.0, 0.0, 0.0, 0.0, 0.0, 0.0, 0.0, 0.0, 0.0, 0.0, 0.0, 0.0, 0.0, 0.0, 0.0, 0.0, 0.0, 0.0, 0.0, 0.0, 0.0, 0.0, 0.0, 0.0, 0.0, 0.0, 0.0, 0.0, 0.0, 0.0, 0.0, 0.0, 0.0, 0.0, 0.0, 0.0, 0.0, 0.0, 0.0, 0.0, 0.0, 0.0, 0.0, 0.0, 0.0, 0.0, 0.0, 0.0, 0.0, 0.0, 0.0, 0.0, 0.0, 0.0, 0.0, 0.0, 0.0, 0.0, 0.0, 0.0, 0.0, 0.0, 0.0, 0.0, 0.0, 0.0, 0.0, 0.0, 0.0, 0.0, 0.0, 0.0, 0.0, 0.0, 0.0, 0.0, 0.0, 0.0, 0.0, 0.0, 0.0, 0.0, 0.0, 0.0, 0.0, 0.0, 0.0, 0.0, 0.0, 0.0, 0.0, 0.0, 0.0, 0.0, 0.0, 0.0, 0.0, 0.0, 0.0, 0.0, 0.0, 0.0, 0.0, 0.0, 0.0, 0.0, 0.0, 0.0, 0.0, 0.0, 0.0, 0.0, 0.0, 0.0, 0.0, 0.0, 0.0, 0.0, 0.0, 0.0, 0.0, 0.0, 0.0, 0.0, 0.0, 0.0, 0.0, 0.0, 0.0, 0.0, 0.0, 0.0, 0.0, 0.0, 0.0, 0.0, 0.0, 0.0, 0.0, 0.0, 0.0, 0.0, 0.0, 0.0, 0.0, 0.0, 0.0, 0.0, 0.0, 0.0, 0.0, 0.0, 0.0, 0.0, 0.0, 0.0, 0.0, 0.0, 0.0, 0.0, 0.0, 0.0, 0.0, 0.0, 0.0, 0.0, 0.0, 0.0, 0.0, 0.0, 0.0, 0.0, 0.0, 0.0, 0.0, 0.0, 0.0, 0.0, 0.0, 0.0, 0.0, 0.0, 0.0, 0.0, 0.0, 0.0, 0.0, 0.0, 0.0, 0.0, 0.0, 0.0, 0.0, 0.0, 0.0, 0.0, 0.0, 0.0, 0.0, 0.0, 0.0, 0.0, 0.0, 0.0, 0.0, 0.0, 0.0, 0.0, 0.0, 0.0, 0.0, 0.0, 0.0, 0.0, 0.0, 0.0, 0.0, 0.0, 0.0, 0.0, 0.0, 0.0, 0.0, 0.0, 0.0, 0.0, 0.0, 0.0, 0.0, 0.0, 0.0, 0.0, 0.0, 0.0, 0.0, 0.0, 0.0, 0.0, 0.0, 0.0, 0.0, 0.0, 0.0, 0.0, 0.0, 0.0, 0.0, 0.0, 0.0, 0.0, 0.0, 0.0, 0.0, 0.0, 0.0, 0.0, 0.0, 0.0, 0.0, 0.0, 0.0, 0.0, 0.0, 0.0, 0.0, 0.0, 0.0, 0.0, 0.0, 0.0, 0.0, 0.0, 0.0, 0.0]\n",
            "srednia: 0.0\n",
            "wariancja: 0.0\n",
            "odchylenie standardowe: 0.0\n"
          ]
        }
      ]
    },
    {
      "cell_type": "code",
      "source": [
        "length = 10\n",
        "numberOfGames = 5\n",
        "\n",
        "game = Lotto(\"Lotto-LasVegas\", True, 1, 49, True, 6)\n",
        "play(length, numberOfGames, game, \"LasVegas\")\n",
        "game.show()"
      ],
      "metadata": {
        "colab": {
          "base_uri": "https://localhost:8080/"
        },
        "id": "nHERbTgDzyDI",
        "outputId": "e8b2aefd-30fe-4edf-dd86-68ffe0454287"
      },
      "execution_count": null,
      "outputs": [
        {
          "output_type": "stream",
          "name": "stdout",
          "text": [
            "Lotto-LasVegas\n",
            "Las Vegas\n"
          ]
        }
      ]
    },
    {
      "cell_type": "code",
      "source": [
        "length = 1000\n",
        "numberOfGames = 1000\n",
        "\n",
        "game = MultiMulti(\"MultiMulti-MonteCarlo\", True, 1, 80, False, 20, 10)\n",
        "play(length, numberOfGames, game, \"MonteCarlo\")\n",
        "game.show()"
      ],
      "metadata": {
        "id": "YecDwb8NzzrF"
      },
      "execution_count": null,
      "outputs": []
    },
    {
      "cell_type": "code",
      "source": [
        "length = 10\n",
        "numberOfGames = 5\n",
        "\n",
        "game = MultiMulti(\"MultiMulti-LasVegas\", True, 1, 80, True, 20, 10)\n",
        "play(length, numberOfGames, game, \"LasVegas\")\n",
        "game.show()"
      ],
      "metadata": {
        "id": "9Ufp85Dgz3A8"
      },
      "execution_count": null,
      "outputs": []
    },
    {
      "cell_type": "code",
      "source": [
        "length = 1000\n",
        "numberOfGames = 1000\n",
        "\n",
        "game = EuroJackpot(\"EuroJackpot-MonteCarlo\", True, 1, 50, False, 5, 1, 10, 2)\n",
        "play(length, numberOfGames, game, \"MonteCarlo\")\n",
        "game.show()"
      ],
      "metadata": {
        "id": "g5SZ9MdZ0N31"
      },
      "execution_count": null,
      "outputs": []
    },
    {
      "cell_type": "code",
      "source": [
        "length = 10\n",
        "numberOfGames = 5\n",
        "\n",
        "game = EuroJackpot(\"EuroJackpot-LasVegas\", True, 1, 50, True, 5, 1, 12, 2)\n",
        "play(length, numberOfGames, game, \"LasVegas\")\n",
        "game.show()"
      ],
      "metadata": {
        "id": "n7mwIBdC0N6g"
      },
      "execution_count": null,
      "outputs": []
    },
    {
      "cell_type": "code",
      "source": [
        "length = 1000\n",
        "numberOfGames = 1000\n",
        "\n",
        "game = PowerBall(\"PowerBall-MonteCarlo\", True, 1, 69, False, 5, 1, 26, 1)\n",
        "play(length, numberOfGames, game, \"MonteCarlo\")\n",
        "game.show()"
      ],
      "metadata": {
        "id": "74UJwmcM0OCO"
      },
      "execution_count": null,
      "outputs": []
    },
    {
      "cell_type": "code",
      "source": [
        "length = 10\n",
        "numberOfGames = 5\n",
        "\n",
        "game = PowerBall(\"PowerBall-LasVegas\", True, 1, 69, True, 5, 1, 26, 1)\n",
        "play(length, numberOfGames, game, \"LasVegas\")\n",
        "game.show()"
      ],
      "metadata": {
        "id": "kCaI585b0OFC"
      },
      "execution_count": null,
      "outputs": []
    }
  ]
}